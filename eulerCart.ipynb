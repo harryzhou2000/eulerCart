{
 "cells": [
  {
   "cell_type": "code",
   "execution_count": 4,
   "metadata": {},
   "outputs": [
    {
     "data": {
      "image/png": "[encoded data removed]",
      "text/plain": [
       "<Figure size 576x504 with 1 Axes>"
      ]
     },
     "metadata": {
      "needs_background": "light"
     },
     "output_type": "display_data"
    },
    {
     "name": "stdout",
     "output_type": "stream",
     "text": [
      "iter 10, t = [9.1167e-04], dt = [1.0078e-04], cpuTime = [1.70e+00]\n",
      "iter 20, t = [1.9148e-03], dt = [9.9983e-05], cpuTime = [1.32e+00]\n",
      "iter 30, t = [2.9115e-03], dt = [9.9471e-05], cpuTime = [1.38e+00]\n",
      "iter 40, t = [3.9048e-03], dt = [9.9233e-05], cpuTime = [1.33e+00]\n",
      "iter 50, t = [4.8965e-03], dt = [9.9131e-05], cpuTime = [1.32e+00]\n",
      "iter 60, t = [5.8872e-03], dt = [9.9021e-05], cpuTime = [1.31e+00]\n",
      "iter 70, t = [6.8768e-03], dt = [9.8908e-05], cpuTime = [1.34e+00]\n"
     ]
    },
    {
     "ename": "KeyboardInterrupt",
     "evalue": "",
     "output_type": "error",
     "traceback": [
      "\u001b[1;31m---------------------------------------------------------------------------\u001b[0m",
      "\u001b[1;31mKeyboardInterrupt\u001b[0m                         Traceback (most recent call last)",
      "\u001b[1;32mC:\\Users\\HARRYZ~1\\AppData\\Local\\Temp/ipykernel_13128/3812517100.py\u001b[0m in \u001b[0;36m<module>\u001b[1;34m\u001b[0m\n\u001b[0;32m    100\u001b[0m     \u001b[0mu1\u001b[0m \u001b[1;33m=\u001b[0m \u001b[0mu\u001b[0m \u001b[1;33m+\u001b[0m \u001b[0mdt\u001b[0m \u001b[1;33m*\u001b[0m \u001b[0mdudt0\u001b[0m\u001b[1;33m\u001b[0m\u001b[1;33m\u001b[0m\u001b[0m\n\u001b[0;32m    101\u001b[0m     \u001b[0mgas\u001b[0m\u001b[1;33m.\u001b[0m\u001b[0mF_FixU\u001b[0m\u001b[1;33m(\u001b[0m\u001b[0mu1\u001b[0m\u001b[1;33m,\u001b[0m \u001b[0mgamma\u001b[0m\u001b[1;33m)\u001b[0m\u001b[1;33m\u001b[0m\u001b[1;33m\u001b[0m\u001b[0m\n\u001b[1;32m--> 102\u001b[1;33m     dudt1 = gas.EulerCartRHS(u1, hLe, hRi, hLo, hUp,\n\u001b[0m\u001b[0;32m    103\u001b[0m                              \u001b[0mhxm\u001b[0m\u001b[1;33m,\u001b[0m \u001b[0mhym\u001b[0m\u001b[1;33m,\u001b[0m \u001b[0mvol\u001b[0m\u001b[1;33m,\u001b[0m\u001b[1;33m\u001b[0m\u001b[1;33m\u001b[0m\u001b[0m\n\u001b[0;32m    104\u001b[0m                              \u001b[0mwBLe\u001b[0m\u001b[1;33m,\u001b[0m \u001b[0mwBRi\u001b[0m\u001b[1;33m,\u001b[0m \u001b[0mwBLo\u001b[0m\u001b[1;33m,\u001b[0m \u001b[0mwBUp\u001b[0m\u001b[1;33m,\u001b[0m\u001b[1;33m\u001b[0m\u001b[1;33m\u001b[0m\u001b[0m\n",
      "\u001b[1;32me:\\projects\\pytorch\\eulerCart\\gas.py\u001b[0m in \u001b[0;36mEulerCartRHS\u001b[1;34m(uIn, hLe, hRi, hLo, hUp, hx, hy, Vol, wBLe, wBRi, wBLo, wBUp, uLeB, uRiB, uLoB, uUpB, gamma)\u001b[0m\n\u001b[0;32m    218\u001b[0m     \u001b[0mF_FixU\u001b[0m\u001b[1;33m(\u001b[0m\u001b[0mFUp_Up\u001b[0m\u001b[1;33m,\u001b[0m \u001b[0mgamma\u001b[0m\u001b[1;33m)\u001b[0m\u001b[1;33m\u001b[0m\u001b[1;33m\u001b[0m\u001b[0m\n\u001b[0;32m    219\u001b[0m \u001b[1;33m\u001b[0m\u001b[0m\n\u001b[1;32m--> 220\u001b[1;33m     \u001b[0mfLe\u001b[0m \u001b[1;33m=\u001b[0m \u001b[0mRoeSolver2\u001b[0m\u001b[1;33m(\u001b[0m\u001b[0mFLe_Le\u001b[0m\u001b[1;33m,\u001b[0m \u001b[0mFLe_Ri\u001b[0m\u001b[1;33m,\u001b[0m \u001b[0mgamma\u001b[0m\u001b[1;33m)\u001b[0m\u001b[1;33m\u001b[0m\u001b[1;33m\u001b[0m\u001b[0m\n\u001b[0m\u001b[0;32m    221\u001b[0m     \u001b[0mfRi\u001b[0m \u001b[1;33m=\u001b[0m \u001b[0mRoeSolver2\u001b[0m\u001b[1;33m(\u001b[0m\u001b[0mFRi_Le\u001b[0m\u001b[1;33m,\u001b[0m \u001b[0mFRi_Ri\u001b[0m\u001b[1;33m,\u001b[0m \u001b[0mgamma\u001b[0m\u001b[1;33m)\u001b[0m\u001b[1;33m\u001b[0m\u001b[1;33m\u001b[0m\u001b[0m\n\u001b[0;32m    222\u001b[0m     \u001b[0mF_u_xfce2yfce\u001b[0m\u001b[1;33m(\u001b[0m\u001b[0mFUp_Lo\u001b[0m\u001b[1;33m)\u001b[0m\u001b[1;33m\u001b[0m\u001b[1;33m\u001b[0m\u001b[0m\n",
      "\u001b[1;32me:\\projects\\pytorch\\eulerCart\\gas.py\u001b[0m in \u001b[0;36mRoeSolver2\u001b[1;34m(uLin, uRin, gammaIn)\u001b[0m\n\u001b[0;32m     41\u001b[0m \u001b[1;33m\u001b[0m\u001b[0m\n\u001b[0;32m     42\u001b[0m     \u001b[1;31m#rev0[:, [0]] = 1\u001b[0m\u001b[1;33m\u001b[0m\u001b[1;33m\u001b[0m\u001b[1;33m\u001b[0m\u001b[0m\n\u001b[1;32m---> 43\u001b[1;33m     \u001b[0mrev0\u001b[0m\u001b[1;33m[\u001b[0m\u001b[1;33m:\u001b[0m\u001b[1;33m,\u001b[0m \u001b[1;33m[\u001b[0m\u001b[1;36m1\u001b[0m\u001b[1;33m]\u001b[0m\u001b[1;33m]\u001b[0m \u001b[1;33m=\u001b[0m \u001b[0mL0Roe\u001b[0m\u001b[1;33m\u001b[0m\u001b[1;33m\u001b[0m\u001b[0m\n\u001b[0m\u001b[0;32m     44\u001b[0m     \u001b[0mrev0\u001b[0m\u001b[1;33m[\u001b[0m\u001b[1;33m:\u001b[0m\u001b[1;33m,\u001b[0m \u001b[1;33m[\u001b[0m\u001b[1;36m2\u001b[0m\u001b[1;33m]\u001b[0m\u001b[1;33m]\u001b[0m \u001b[1;33m=\u001b[0m \u001b[0mUyRoe\u001b[0m\u001b[1;33m\u001b[0m\u001b[1;33m\u001b[0m\u001b[0m\n\u001b[0;32m     45\u001b[0m     \u001b[0mrev0\u001b[0m\u001b[1;33m[\u001b[0m\u001b[1;33m:\u001b[0m\u001b[1;33m,\u001b[0m \u001b[1;33m[\u001b[0m\u001b[1;36m3\u001b[0m\u001b[1;33m]\u001b[0m\u001b[1;33m]\u001b[0m \u001b[1;33m=\u001b[0m \u001b[0mHRoe\u001b[0m \u001b[1;33m-\u001b[0m \u001b[0mUxRoe\u001b[0m \u001b[1;33m*\u001b[0m \u001b[0maRoe\u001b[0m\u001b[1;33m\u001b[0m\u001b[1;33m\u001b[0m\u001b[0m\n",
      "\u001b[1;31mKeyboardInterrupt\u001b[0m: "
     ]
    }
   ],
   "source": [
    "import torch\n",
    "import gas\n",
    "import cart\n",
    "import numpy as np\n",
    "import matplotlib.pyplot as plt\n",
    "import time\n",
    "\n",
    "\n",
    "# if __name__ == '__main__':\n",
    "sz = (512, 512)\n",
    "device = 'cuda'\n",
    "dataType = torch.float64\n",
    "CFL = torch.tensor([0.2], device=device, dtype=dataType)\n",
    "tOuts = [0, 1]\n",
    "see = 10\n",
    "\n",
    "gamma = torch.tensor([1.4], device=device, dtype=dataType)\n",
    "uBack = torch.tensor([1, 0, 0, 2.5], device=device, dtype=dataType)\n",
    "uBlock = torch.tensor([0.5, -1, 0, 4], device=device, dtype=dataType)\n",
    "\n",
    "xs = torch.linspace(0, 1, sz[0] + 1, device=device, dtype=dataType)\n",
    "ys = torch.linspace(0, 1, sz[1] + 1, device=device, dtype=dataType)\n",
    "\n",
    "rs = torch.tensor(range(sz[0]), device=device, dtype=torch.long)\n",
    "ss = torch.tensor(range(sz[1]), device=device, dtype=torch.long)\n",
    "\n",
    "rsm, ssm = torch.meshgrid(rs, ss, indexing='ij')\n",
    "\n",
    "xc = 0.5 * (xs[:-1] + xs[1:])\n",
    "yc = 0.5 * (ys[:-1] + ys[1:])\n",
    "\n",
    "hx = xs[1:] - xs[:-1]\n",
    "hy = ys[1:] - ys[:-1]\n",
    "\n",
    "hxm, hym = torch.meshgrid(hx, hy, indexing='ij')\n",
    "xcm, ycm = torch.meshgrid(xc, yc, indexing='ij')\n",
    "\n",
    "hLe = xcm - cart.Le(xcm)\n",
    "hRi = cart.Ri(xcm) - xcm\n",
    "hLo = ycm - cart.Lo(ycm)\n",
    "hUp = cart.Up(ycm) - ycm\n",
    "hLe[0, :] = hLe[1, :]\n",
    "hRi[-1, :] = hLe[-2, :]\n",
    "hLo[:, 0] = hLo[:, 1]\n",
    "hUp[:, -1] = hUp[:, -2]\n",
    "\n",
    "vol = hxm * hym\n",
    "\n",
    "ifwBLe = rsm == 0\n",
    "ifwBRi = rsm == sz[0] - 1\n",
    "ifwBLo = ssm == 0\n",
    "ifwBUp = ssm == sz[1] - 1\n",
    "ifBlock = (xcm < 0.75).logical_and_(xcm > 0.25).logical_and(\n",
    "    ycm < 0.75).logical_and(ycm > 0.25)\n",
    "\n",
    "wBLe = cart.sub2indFromBool(rsm, ssm, sz, ifwBLe)\n",
    "wBRi = cart.sub2indFromBool(rsm, ssm, sz, ifwBRi)\n",
    "wBLo = cart.sub2indFromBool(rsm, ssm, sz, ifwBLo)\n",
    "wBUp = cart.sub2indFromBool(rsm, ssm, sz, ifwBUp)\n",
    "\n",
    "block = cart.sub2indFromBool(rsm, ssm, sz, ifBlock)\n",
    "\n",
    "u0 = torch.zeros((sz[0], sz[1], 4), device=device, dtype=dataType)\n",
    "\n",
    "u0.view(-1, 4)[:, :] = uBack.view(1, 4)\n",
    "u0.view(-1, 4)[block, :] = uBlock.view(1, 4)\n",
    "\n",
    "# print(xcm)\n",
    "# print(ycm)\n",
    "# print(u0[:, :, 0])\n",
    "\n",
    "u = u0\n",
    "\n",
    "t = 0.0\n",
    "iOut = 0\n",
    "\n",
    "fig, ax = plt.subplots()\n",
    "fig.set_size_inches((12,11))\n",
    "\n",
    "tic = time.perf_counter()\n",
    "for iter in range(1, 10000000 + 1):\n",
    "    UxMax = gas.F_u2maxLamX(u, gamma)\n",
    "    uy = u.clone()\n",
    "    gas.F_u_xfce2yfce(uy)\n",
    "    UyMax = gas.F_u2maxLamX(uy, gamma)\n",
    "    dtx = hxm/UxMax\n",
    "    dty = hym/UyMax\n",
    "    dtCFL = dtx.minimum(dty).min() * CFL\n",
    "    dt = dtCFL\n",
    "    ifOut = False\n",
    "    if t + dt >= tOuts[iOut]:\n",
    "        ifOut = True\n",
    "        dt = tOuts[iOut] - t\n",
    "\n",
    "    dudt0 = gas.EulerCartRHS(u, hLe, hRi, hLo, hUp,\n",
    "                             hxm, hym, vol,\n",
    "                             wBLe, wBRi, wBLo, wBUp,\n",
    "                             uBack, uBack, uBack, uBack,\n",
    "                             gamma)\n",
    "    u1 = u + dt * dudt0\n",
    "    gas.F_FixU(u1, gamma)\n",
    "    dudt1 = gas.EulerCartRHS(u1, hLe, hRi, hLo, hUp,\n",
    "                             hxm, hym, vol,\n",
    "                             wBLe, wBRi, wBLo, wBUp,\n",
    "                             uBack, uBack, uBack, uBack,\n",
    "                             gamma)\n",
    "    unew = 0.5 * u + 0.5 * u1 + 0.5 * dt * dudt1\n",
    "    gas.F_FixU(unew, gamma)\n",
    "    u = unew.clone()\n",
    "\n",
    "    t = t + dt\n",
    "\n",
    "    if ifOut:\n",
    "        iOut += 1\n",
    "        if(iOut >= len(tOuts)):\n",
    "            break\n",
    "        pass\n",
    "\n",
    "    if iter % see == 0:\n",
    "\n",
    "        rho = u[:, :, 0]\n",
    "\n",
    "        # with plt.ion():\n",
    "        # fig.clear()\n",
    "        # fig.clf()\n",
    "        ax.cla()\n",
    "        ax.pcolormesh(xcm.cpu(), ycm.cpu(), rho.cpu(),\n",
    "                      shading='auto', cmap='jet')\n",
    "        ax.axis('equal')\n",
    "        plt.show(block=False)\n",
    "        plt.pause(0.1)\n",
    "        # fig.savefig('out/cfig.png')\n",
    "\n",
    "        print(\"iter %d, t = [%.4e], dt = [%.4e], cpuTime = [%.2e]\" % (\n",
    "            iter, t, dt, (time.perf_counter() - tic)))\n",
    "        # print(rho.max())\n",
    "        tic = time.perf_counter()\n"
   ]
  },
  {
   "cell_type": "code",
   "execution_count": null,
   "metadata": {},
   "outputs": [
    {
     "name": "stderr",
     "output_type": "stream",
     "text": [
      "C:\\Users\\HARRYZ~1\\AppData\\Local\\Temp/ipykernel_24104/417691535.py:5: MatplotlibDeprecationWarning: shading='flat' when X and Y have the same dimensions as C is deprecated since 3.3.  Either specify the corners of the quadrilaterals with X and Y, or pass shading='auto', 'nearest' or 'gouraud', or set rcParams['pcolor.shading'].  This will become an error two minor releases later.\n",
      "  ax1.pcolormesh(xcm, ycm, rho)\n"
     ]
    },
    {
     "data": {
      "image/png": "[encoded data removed]",
      "text/plain": [
       "<Figure size 432x288 with 1 Axes>"
      ]
     },
     "metadata": {
      "needs_background": "light"
     },
     "output_type": "display_data"
    }
   ],
   "source": [
    "\n",
    "fig1, ax1 = plt.subplots()\n",
    "rho = u[:, :, 0]\n",
    "\n",
    "ax1.cla\n",
    "ax1.pcolormesh(xcm, ycm, rho)\n",
    "ax1.axis('equal')\n",
    "plt.show()\n"
   ]
  }
 ],
 "metadata": {
  "kernelspec": {
   "display_name": "Python 3.8.12 ('DL02')",
   "language": "python",
   "name": "python3"
  },
  "language_info": {
   "codemirror_mode": {
    "name": "ipython",
    "version": 3
   },
   "file_extension": ".py",
   "mimetype": "text/x-python",
   "name": "python",
   "nbconvert_exporter": "python",
   "pygments_lexer": "ipython3",
   "version": "3.8.12"
  },
  "orig_nbformat": 4,
  "vscode": {
   "interpreter": {
    "hash": "0927582d837cb82b929fd98d482e266c21b7cf4a39f16fc3e7c5b7438e85f962"
   }
  }
 },
 "nbformat": 4,
 "nbformat_minor": 2
}
