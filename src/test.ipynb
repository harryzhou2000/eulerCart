{
 "cells": [
  {
   "cell_type": "code",
   "execution_count": 1,
   "metadata": {},
   "outputs": [
    {
     "name": "stdout",
     "output_type": "stream",
     "text": [
      "tensor([[0.0576, 0.1772, 0.7735],\n",
      "        [0.5312, 0.5180, 0.9925],\n",
      "        [0.3608, 0.8883, 0.8872]])\n",
      "tensor([[0.0576, 0.7735, 0.1772],\n",
      "        [0.5312, 0.9925, 0.5180],\n",
      "        [0.3608, 0.8872, 0.8883]])\n",
      "tensor([ 2.0000,  5.2500,  0.0000, 11.5000])\n"
     ]
    },
    {
     "data": {
      "text/plain": [
       "tensor([7., 7., 4., 0., 0., 1., 4., 0.])"
      ]
     },
     "execution_count": 1,
     "metadata": {},
     "output_type": "execute_result"
    }
   ],
   "source": [
    "import torch\n",
    "import torch.nn\n",
    "import copy\n",
    "import eulerCart\n",
    "import eulerCart.gas as gas\n",
    "import eulerCart.cart as cart\n",
    "\n",
    "A = torch.zeros((3, 3), device='cpu')\n",
    "\n",
    "A[:, 0] = 1\n",
    "\n",
    "B = A @ A.transpose(0, 1)\n",
    "\n",
    "C = torch.nn.Linear(3, 3, False)\n",
    "\n",
    "ifAP = A > 0\n",
    "\n",
    "B = A.clone()\n",
    "\n",
    "\n",
    "B[1, :] = 0.5\n",
    "\n",
    "torch.zeros_like(A)\n",
    "\n",
    "K = torch.rand_like(A)\n",
    "\n",
    "print(K)\n",
    "\n",
    "a = K[:, 1].clone()\n",
    "b = K[:, 2].clone()\n",
    "\n",
    "K[:, 1] = b\n",
    "K[:, 2] = a\n",
    "\n",
    "print(K)\n",
    "\n",
    "uL = torch.tensor([1,\n",
    "                   2,\n",
    "                   0,\n",
    "                   4.50000000000000])\n",
    "\n",
    "uR = torch.tensor([0.100000000000000,\n",
    "                   0.0400000000000000,\n",
    "                   0.0300000000000000,\n",
    "                   5.01250000000000, ])\n",
    "print(gas.RoeSolver2(uL, uL, torch.tensor(1.5)))\n",
    "\n",
    "\n",
    "A[[1,2],[0,1]] = 4\n",
    "\n",
    "A.view(-1,9)[:,[1,2]] = 7\n",
    "\n",
    "A.view(-1)[1:]"
   ]
  },
  {
   "cell_type": "code",
   "execution_count": 2,
   "metadata": {},
   "outputs": [
    {
     "name": "stdout",
     "output_type": "stream",
     "text": [
      "tensor([0.4963, 0.0885, 0.1320, 0.3074, 0.4901, 0.4556, 0.3489, 0.4017, 0.0223,\n",
      "        0.1689, 0.2939, 0.1610, 0.2823, 0.3971, 0.4194, 0.0362, 0.1852, 0.3734,\n",
      "        0.3051, 0.1759, 0.2698, 0.1507, 0.0317])\n",
      "tensor([[0.4963, 0.0885, 0.1320, 0.3074, 0.4901, 0.4556, 0.3489, 0.4017, 0.0223,\n",
      "         0.1689, 0.2939, 0.1610, 0.2823, 0.3971, 0.4194, 0.0362, 0.1852, 0.3734,\n",
      "         0.3051, 0.1759, 0.2698, 0.1507, 0.0317],\n",
      "        [0.4963, 0.0885, 0.1320, 0.3074, 0.4901, 0.4556, 0.3489, 0.4017, 0.0223,\n",
      "         0.1689, 0.2939, 0.1610, 0.2823, 0.3971, 0.4194, 0.0362, 0.1852, 0.3734,\n",
      "         0.3051, 0.1759, 0.2698, 0.1507, 0.0317],\n",
      "        [0.4963, 0.0885, 0.1320, 0.3074, 0.4901, 0.4556, 0.3489, 0.4017, 0.0223,\n",
      "         0.1689, 0.2939, 0.1610, 0.2823, 0.3971, 0.4194, 0.0362, 0.1852, 0.3734,\n",
      "         0.3051, 0.1759, 0.2698, 0.1507, 0.0317],\n",
      "        [0.4963, 0.0885, 0.1320, 0.3074, 0.4901, 0.4556, 0.3489, 0.4017, 0.0223,\n",
      "         0.1689, 0.2939, 0.1610, 0.2823, 0.3971, 0.4194, 0.0362, 0.1852, 0.3734,\n",
      "         0.3051, 0.1759, 0.2698, 0.1507, 0.0317],\n",
      "        [0.4963, 0.0885, 0.1320, 0.3074, 0.4901, 0.4556, 0.3489, 0.4017, 0.0223,\n",
      "         0.1689, 0.2939, 0.1610, 0.2823, 0.3971, 0.4194, 0.0362, 0.1852, 0.3734,\n",
      "         0.3051, 0.1759, 0.2698, 0.1507, 0.0317]])\n"
     ]
    }
   ],
   "source": [
    "torch.manual_seed(0)\n",
    "A = torch.rand((3, 4, 3))\n",
    "nz_subs = torch.nonzero(A < 0.5, as_tuple=True)\n",
    "print(A[nz_subs])\n",
    "\n",
    "B = A.repeat(5, 1, 1, 1)\n",
    "print(B[:, nz_subs[0], nz_subs[1], nz_subs[2]].view((5,-1)))"
   ]
  },
  {
   "cell_type": "code",
   "execution_count": 5,
   "metadata": {},
   "outputs": [
    {
     "name": "stdout",
     "output_type": "stream",
     "text": [
      "tensor([4.4444, 8.4444, 4.8889, 8.8889])\n",
      "001\n"
     ]
    }
   ],
   "source": [
    "A = torch.tensor([0, 1, 1, 0])\n",
    "B = torch.tensor([0, 1, 1, 0, 0, 0, 0, 0, 0])\n",
    "A = A.reshape(4, 1) @ B.reshape(1, -1)\n",
    "print(cart.sub2indFromBool_pytorch(A))\n",
    "\n",
    "print(f\"{1:03d}\")"
   ]
  },
  {
   "cell_type": "code",
   "execution_count": null,
   "metadata": {},
   "outputs": [],
   "source": []
  }
 ],
 "metadata": {
  "kernelspec": {
   "display_name": "Python 3",
   "language": "python",
   "name": "python3"
  },
  "language_info": {
   "codemirror_mode": {
    "name": "ipython",
    "version": 3
   },
   "file_extension": ".py",
   "mimetype": "text/x-python",
   "name": "python",
   "nbconvert_exporter": "python",
   "pygments_lexer": "ipython3",
   "version": "3.12.9"
  },
  "orig_nbformat": 4
 },
 "nbformat": 4,
 "nbformat_minor": 2
}
