{
 "cells": [
  {
   "cell_type": "code",
   "execution_count": 8,
   "metadata": {},
   "outputs": [
    {
     "name": "stdout",
     "output_type": "stream",
     "text": [
      "tensor([[0.7832, 0.0508, 0.6722],\n",
      "        [0.7301, 0.4415, 0.5817],\n",
      "        [0.6169, 0.8104, 0.0502]])\n",
      "tensor([[0.7832, 0.6722, 0.0508],\n",
      "        [0.7301, 0.5817, 0.4415],\n",
      "        [0.6169, 0.0502, 0.8104]])\n",
      "tensor([ 2.0000,  5.2500,  0.0000, 11.5000])\n"
     ]
    },
    {
     "data": {
      "text/plain": [
       "tensor([7., 7., 4., 0., 0., 1., 4., 0.])"
      ]
     },
     "execution_count": 8,
     "metadata": {},
     "output_type": "execute_result"
    }
   ],
   "source": [
    "import torch\n",
    "import torch.nn\n",
    "import copy\n",
    "import eulerCart\n",
    "import gas\n",
    "\n",
    "A = torch.zeros((3, 3), device='cpu')\n",
    "\n",
    "A[:, 0] = 1\n",
    "\n",
    "B = A @ A.transpose(0, 1)\n",
    "\n",
    "C = torch.nn.Linear(3, 3, False)\n",
    "\n",
    "ifAP = A > 0\n",
    "\n",
    "B = A.clone()\n",
    "\n",
    "\n",
    "B[1, :] = 0.5\n",
    "\n",
    "torch.zeros_like(A)\n",
    "\n",
    "K = torch.rand_like(A)\n",
    "\n",
    "print(K)\n",
    "\n",
    "a = K[:, 1].clone()\n",
    "b = K[:, 2].clone()\n",
    "\n",
    "K[:, 1] = b\n",
    "K[:, 2] = a\n",
    "\n",
    "print(K)\n",
    "\n",
    "uL = torch.tensor([1,\n",
    "                   2,\n",
    "                   0,\n",
    "                   4.50000000000000])\n",
    "\n",
    "uR = torch.tensor([0.100000000000000,\n",
    "                   0.0400000000000000,\n",
    "                   0.0300000000000000,\n",
    "                   5.01250000000000, ])\n",
    "print(gas.RoeSolver2(uL, uL, torch.tensor(1.5)))\n",
    "\n",
    "\n",
    "A[[1,2],[0,1]] = 4\n",
    "\n",
    "A.view(-1,9)[:,[1,2]] = 7\n",
    "\n",
    "A.view(-1)[1:]\n"
   ]
  },
  {
   "cell_type": "code",
   "execution_count": null,
   "metadata": {},
   "outputs": [],
   "source": []
  }
 ],
 "metadata": {
  "kernelspec": {
   "display_name": "Python 3.8.12 ('DL02')",
   "language": "python",
   "name": "python3"
  },
  "language_info": {
   "codemirror_mode": {
    "name": "ipython",
    "version": 3
   },
   "file_extension": ".py",
   "mimetype": "text/x-python",
   "name": "python",
   "nbconvert_exporter": "python",
   "pygments_lexer": "ipython3",
   "version": "3.8.12"
  },
  "orig_nbformat": 4,
  "vscode": {
   "interpreter": {
    "hash": "0927582d837cb82b929fd98d482e266c21b7cf4a39f16fc3e7c5b7438e85f962"
   }
  }
 },
 "nbformat": 4,
 "nbformat_minor": 2
}
